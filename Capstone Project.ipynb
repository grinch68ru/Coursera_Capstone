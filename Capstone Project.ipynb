{
 "cells": [
  {
   "cell_type": "markdown",
   "metadata": {},
   "source": [
    "## Business Problem ##"
   ]
  },
  {
   "cell_type": "markdown",
   "metadata": {},
   "source": [
    "Our company wants to open a new office. Based on past experience, we have noticed that a new office location is likely to generate a lot of opinions, and people will not always be happy to change their usual work route and restaurants used. In addition, we recruit many new employees who determine the workplace experience based not only on the location, but also on the attractiveness of the surrounding restaurants, bars, and fitness centers. Our task is to find popular places that our new employees love.\n",
    "\n",
    "Therefore, our business challenge is to objectively evaluate locations in terms of the location data available in Foursquare and determine the best location for the new office. As a criterion, we will use the number of restaurants and their popularity. In addition, we will look at other services available near our office building, such as a gym.\n",
    "\n",
    "In short, our business objective is to find the most attractive location for a new office from the employees ' point of view.\n",
    "\n",
    "Our target audience is any company that is looking for a place for a new office, as the survey can not only help our company choose the right office from the available premises, but also help other companies to apply a similar survey to choose their new office. In addition, an existing office can be evaluated in terms of its current attractiveness using a similar methodology.\n",
    "\n",
    "Our business challenge is particularly important for many companies due to the difficulty of retaining a large number of talent in the company. People expect their work to reflect their personal character, and are therefore willing to switch jobs if the current work environment does not create the type of interaction that the employer seeks. Therefore, it is very important to find an office space that will help employees stay very involved in their work and colleagues and create an environment that they consider the best place to work."
   ]
  },
  {
   "cell_type": "markdown",
   "metadata": {},
   "source": [
    "## Data"
   ]
  },
  {
   "cell_type": "markdown",
   "metadata": {},
   "source": [
    "Foursquare is a location data provider of 105 million places. The site is a social networking, which purpose is to discover and share information about businesses and attractions around its users. We will be using it for this project. In case we would like to use alternative services, there are several to name a few: Yelp, NinthDecimal and LikeWhere.\n",
    "\n",
    "Foursquare has over 150 000 developers within its plaform. Foursquare developer interface helps to retrieve information e.g. provide list of venues, which are close to a specific location, but as well detailed information about the specific venues and users. Foursquare offers API called: \"Places\", which allows developers to retrieve location data in real-time from any connected device. We will be using the \"Places\"-API in order to search the locations data based on our locations. The location searches will be conducted using the gps-coordinates of our office buildings and we will then seek for each location the number of restaurants close by and in case the places have any trending places closeby.\n",
    "\n",
    "The Foursquare API is queried in practice using either Regular or Premium-endpoint:\n",
    "\n",
    "Regular endpoints include basic information from venue id etc, while\n",
    "Premium-endpoints include data for user content as well.\n",
    "\n",
    "The two tiers of the service make some data available free, while other data we are able to run limited number of queries per day. Exact limits are specified in Fourquare: https://developer.foursquare.com/docs/api/troubleshooting/rate-limits\n",
    "\n",
    "To make queries to the API, we will need to define a link, which differs based on the exact groups being queried. The \"Places\"-API endpoints are defined in the link: https://developer.foursquare.com/docs/api/endpoints with explanation of each group.\n",
    "\n",
    "Our Data approach will be to query our locations based on below three criteria:\n",
    "\n",
    "Number of restaurants closeby\n",
    "Variety of the restaurants: e.g. Japanese food available\n",
    "Trending places close e.g. number of check-ins\n",
    "Other locations closeby\n",
    "\n",
    "We will use these factors to create a decision matrix, which will help us to find the specific location, where we want to establish our office."
   ]
  },
  {
   "cell_type": "code",
   "execution_count": null,
   "metadata": {},
   "outputs": [],
   "source": []
  }
 ],
 "metadata": {
  "kernelspec": {
   "display_name": "Python 3",
   "language": "python",
   "name": "python3"
  },
  "language_info": {
   "codemirror_mode": {
    "name": "ipython",
    "version": 3
   },
   "file_extension": ".py",
   "mimetype": "text/x-python",
   "name": "python",
   "nbconvert_exporter": "python",
   "pygments_lexer": "ipython3",
   "version": "3.7.3"
  }
 },
 "nbformat": 4,
 "nbformat_minor": 2
}
